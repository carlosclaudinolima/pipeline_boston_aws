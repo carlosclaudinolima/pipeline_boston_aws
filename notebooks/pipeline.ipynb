{
 "cells": [
  {
   "cell_type": "markdown",
   "id": "f8116de3",
   "metadata": {},
   "source": [
    "# Consumo dos dados do serviço 303 da cidade de Boston de 2015 a 2020"
   ]
  },
  {
   "cell_type": "markdown",
   "id": "e090e0d3",
   "metadata": {},
   "source": [
    "* Criando subpasta de dados"
   ]
  },
  {
   "cell_type": "code",
   "execution_count": 14,
   "id": "d1a483fe",
   "metadata": {},
   "outputs": [],
   "source": [
    "!mkdir -p ../data\n",
    "path_relativo = \"../data\""
   ]
  },
  {
   "cell_type": "markdown",
   "id": "f1a900e7",
   "metadata": {},
   "source": [
    "* Dicionário de anos e URLs"
   ]
  },
  {
   "cell_type": "code",
   "execution_count": 15,
   "id": "766baba6",
   "metadata": {},
   "outputs": [],
   "source": [
    "urls = {\n",
    "    2015:{\"url\": \"https://data.boston.gov/datastore/dump/c9509ab4-6f6d-4b97-979a-0cf2a10c922b?bom=True\"},\n",
    "    2016:{\"url\": \"https://data.boston.gov/datastore/dump/b7ea6b1b-3ca4-4c5b-9713-6dc1db52379a?bom=True\"},\n",
    "    2017:{\"url\": \"https://data.boston.gov/datastore/dump/30022137-709d-465e-baae-ca155b51927d?bom=True\"},\n",
    "    2018:{\"url\": \"https://data.boston.gov/datastore/dump/2be28d90-3a90-4af1-a3f6-f28c1e25880a?bom=True\"},\n",
    "    2019:{\"url\": \"https://data.boston.gov/datastore/dump/ea2e4696-4a2d-429c-9807-d02eb92e0222?bom=True\"},\n",
    "    2020:{\"url\": \"https://data.boston.gov/datastore/dump/e6013a93-1321-4f2a-bf91-8d8a02f1e62f?bom=True\"},\n",
    "}"
   ]
  },
  {
   "cell_type": "markdown",
   "id": "dec0aaf1",
   "metadata": {},
   "source": [
    "* Função de download"
   ]
  },
  {
   "cell_type": "code",
   "execution_count": 16,
   "id": "88fad0ee",
   "metadata": {},
   "outputs": [],
   "source": [
    "import urllib.request as rq\n",
    "\n",
    "def extract_data(url, filename):\n",
    "    try:\n",
    "        rq.urlretrieve(url, filename)\n",
    "    except Exception as e:\n",
    "        print(e)"
   ]
  },
  {
   "cell_type": "markdown",
   "id": "29c5c003",
   "metadata": {},
   "source": [
    "* Fazendo o download dos dados"
   ]
  },
  {
   "cell_type": "code",
   "execution_count": 17,
   "id": "b4ff2092",
   "metadata": {},
   "outputs": [
    {
     "name": "stdout",
     "output_type": "stream",
     "text": [
      "Downloading year 2015 from https://data.boston.gov/datastore/dump/c9509ab4-6f6d-4b97-979a-0cf2a10c922b?bom=True to ../data/dados_2015.csv\n",
      "Downloading year 2016 from https://data.boston.gov/datastore/dump/b7ea6b1b-3ca4-4c5b-9713-6dc1db52379a?bom=True to ../data/dados_2016.csv\n",
      "Downloading year 2017 from https://data.boston.gov/datastore/dump/30022137-709d-465e-baae-ca155b51927d?bom=True to ../data/dados_2017.csv\n",
      "Downloading year 2018 from https://data.boston.gov/datastore/dump/2be28d90-3a90-4af1-a3f6-f28c1e25880a?bom=True to ../data/dados_2018.csv\n",
      "Downloading year 2019 from https://data.boston.gov/datastore/dump/ea2e4696-4a2d-429c-9807-d02eb92e0222?bom=True to ../data/dados_2019.csv\n",
      "Downloading year 2020 from https://data.boston.gov/datastore/dump/e6013a93-1321-4f2a-bf91-8d8a02f1e62f?bom=True to ../data/dados_2020.csv\n"
     ]
    }
   ],
   "source": [
    "\n",
    "for ano in urls.keys():\n",
    "    url = urls.get(ano)['url']\n",
    "    file_name = f'{path_relativo}/dados_{ano}.csv'\n",
    "    urls.get(ano)['file_name'] = file_name\n",
    "    print(f'Downloading year {ano} from {url} to {file_name}')\n",
    "    extract_data(url, file_name)"
   ]
  },
  {
   "cell_type": "markdown",
   "id": "e129713c",
   "metadata": {},
   "source": [
    "# Ingestão dos dados no S3 através da biblioteca boto3"
   ]
  },
  {
   "cell_type": "code",
   "execution_count": 18,
   "id": "9f33599d",
   "metadata": {},
   "outputs": [],
   "source": [
    "import boto3"
   ]
  },
  {
   "cell_type": "markdown",
   "id": "acd17618",
   "metadata": {},
   "source": [
    "* As credenciais não devem estar no código por questão de segurança"
   ]
  },
  {
   "cell_type": "code",
   "execution_count": 19,
   "id": "1e183384",
   "metadata": {},
   "outputs": [],
   "source": [
    "aws_access_key_id = input(\"aws_access_key_id\")\n",
    "aws_secret_access_key = input(\"aws_secret_access_key\")\n",
    "region_name = 'us-east-1'\n",
    "bucket='alura-datalakeaws-carlos'"
   ]
  },
  {
   "cell_type": "markdown",
   "id": "45f5c491",
   "metadata": {},
   "source": [
    "* Criando a sessão padrão do boto com as credenciais"
   ]
  },
  {
   "cell_type": "code",
   "execution_count": 20,
   "id": "9943f7ab",
   "metadata": {},
   "outputs": [],
   "source": [
    "boto3.setup_default_session(\n",
    "   aws_access_key_id = aws_access_key_id,\n",
    "   aws_secret_access_key = aws_secret_access_key,\n",
    "   region_name = region_name    \n",
    ")"
   ]
  },
  {
   "cell_type": "markdown",
   "id": "c8805b17",
   "metadata": {},
   "source": [
    "* Criando cliente para o acesso ao serviço AWS S3"
   ]
  },
  {
   "cell_type": "code",
   "execution_count": 21,
   "id": "9fb42deb",
   "metadata": {},
   "outputs": [],
   "source": [
    "s3 = boto3.client('s3')"
   ]
  },
  {
   "cell_type": "markdown",
   "id": "04d66584",
   "metadata": {},
   "source": [
    "* Conteúdo para testar a conexão"
   ]
  },
  {
   "cell_type": "code",
   "execution_count": 22,
   "id": "b4cb0411",
   "metadata": {},
   "outputs": [],
   "source": [
    "arquivo_teste = f'{path_relativo}/teste.txt'\n",
    "content = '''\n",
    "    Olá AWS S3 !!!\n",
    "'''\n",
    "with open(arquivo_teste, 'w+') as f:\n",
    "    f.write(content)"
   ]
  },
  {
   "cell_type": "markdown",
   "id": "b17f626c",
   "metadata": {},
   "source": [
    "* Agora vamos colocar no nosso baldinho :) na camada bronze"
   ]
  },
  {
   "cell_type": "code",
   "execution_count": 23,
   "id": "99d4ed02",
   "metadata": {},
   "outputs": [],
   "source": [
    "s3.upload_file(arquivo_teste, bucket, 'bronze/teste')"
   ]
  },
  {
   "cell_type": "markdown",
   "id": "662a1dbc",
   "metadata": {},
   "source": [
    "* Teste bem sucedido, vamos carregar os DFs"
   ]
  },
  {
   "cell_type": "code",
   "execution_count": 24,
   "id": "518e8844",
   "metadata": {},
   "outputs": [
    {
     "name": "stdout",
     "output_type": "stream",
     "text": [
      "../data/dados_2015.csv\n"
     ]
    },
    {
     "name": "stderr",
     "output_type": "stream",
     "text": [
      "/tmp/ipykernel_91797/2035348949.py:7: DtypeWarning: Columns (14,15) have mixed types. Specify dtype option on import or set low_memory=False.\n",
      "  dfs[ano] = pd.read_csv(file_name)\n"
     ]
    },
    {
     "name": "stdout",
     "output_type": "stream",
     "text": [
      "../data/dados_2016.csv\n"
     ]
    },
    {
     "name": "stderr",
     "output_type": "stream",
     "text": [
      "/tmp/ipykernel_91797/2035348949.py:7: DtypeWarning: Columns (14,15) have mixed types. Specify dtype option on import or set low_memory=False.\n",
      "  dfs[ano] = pd.read_csv(file_name)\n"
     ]
    },
    {
     "name": "stdout",
     "output_type": "stream",
     "text": [
      "../data/dados_2017.csv\n"
     ]
    },
    {
     "name": "stderr",
     "output_type": "stream",
     "text": [
      "/tmp/ipykernel_91797/2035348949.py:7: DtypeWarning: Columns (14) have mixed types. Specify dtype option on import or set low_memory=False.\n",
      "  dfs[ano] = pd.read_csv(file_name)\n"
     ]
    },
    {
     "name": "stdout",
     "output_type": "stream",
     "text": [
      "../data/dados_2018.csv\n"
     ]
    },
    {
     "name": "stderr",
     "output_type": "stream",
     "text": [
      "/tmp/ipykernel_91797/2035348949.py:7: DtypeWarning: Columns (14,15) have mixed types. Specify dtype option on import or set low_memory=False.\n",
      "  dfs[ano] = pd.read_csv(file_name)\n"
     ]
    },
    {
     "name": "stdout",
     "output_type": "stream",
     "text": [
      "../data/dados_2019.csv\n"
     ]
    },
    {
     "name": "stderr",
     "output_type": "stream",
     "text": [
      "/tmp/ipykernel_91797/2035348949.py:7: DtypeWarning: Columns (14) have mixed types. Specify dtype option on import or set low_memory=False.\n",
      "  dfs[ano] = pd.read_csv(file_name)\n"
     ]
    },
    {
     "name": "stdout",
     "output_type": "stream",
     "text": [
      "../data/dados_2020.csv\n"
     ]
    },
    {
     "name": "stderr",
     "output_type": "stream",
     "text": [
      "/tmp/ipykernel_91797/2035348949.py:7: DtypeWarning: Columns (14) have mixed types. Specify dtype option on import or set low_memory=False.\n",
      "  dfs[ano] = pd.read_csv(file_name)\n"
     ]
    }
   ],
   "source": [
    "import pandas as pd\n",
    "\n",
    "dfs = {}\n",
    "for ano in urls.keys():\n",
    "    file_name = urls.get(ano)['file_name']\n",
    "    print(file_name)\n",
    "    dfs[ano] = pd.read_csv(file_name)    "
   ]
  },
  {
   "cell_type": "markdown",
   "id": "d333319e",
   "metadata": {},
   "source": [
    "* Com os DFs carregados, vamos converter os dados para o formato Parquet"
   ]
  },
  {
   "cell_type": "code",
   "execution_count": 25,
   "id": "43cfccb4",
   "metadata": {},
   "outputs": [],
   "source": [
    "from io import BytesIO\n",
    "\n",
    "for ano, df in dfs.items():\n",
    "    parquet_buffer = BytesIO()\n",
    "    df.to_parquet(parquet_buffer)\n",
    "    \n",
    "    s3.put_object(\n",
    "        Bucket=bucket,\n",
    "        Key=f'bronze/dados_{ano}.parquet',\n",
    "        Body=parquet_buffer.getvalue()        \n",
    "    )        "
   ]
  },
  {
   "cell_type": "markdown",
   "id": "a22cbf40",
   "metadata": {},
   "source": [
    "* Listando para ver se ocorreu tudo bem com o upload"
   ]
  },
  {
   "cell_type": "code",
   "execution_count": 26,
   "id": "9ca72f6f",
   "metadata": {},
   "outputs": [
    {
     "name": "stdout",
     "output_type": "stream",
     "text": [
      "['bronze/', 'bronze/dados_2015.parquet', 'bronze/dados_2016.parquet', 'bronze/dados_2017.parquet', 'bronze/dados_2018.parquet', 'bronze/dados_2019.parquet', 'bronze/dados_2020.parquet', 'bronze/teste', 'silver/']\n"
     ]
    }
   ],
   "source": [
    "response = s3.list_objects(Bucket=bucket)\n",
    "keys = [obj[\"Key\"] for obj in response[\"Contents\"]]\n",
    "print(keys) "
   ]
  },
  {
   "cell_type": "code",
   "execution_count": null,
   "id": "4733eed0",
   "metadata": {},
   "outputs": [],
   "source": []
  }
 ],
 "metadata": {
  "kernelspec": {
   "display_name": ".venv",
   "language": "python",
   "name": "python3"
  },
  "language_info": {
   "codemirror_mode": {
    "name": "ipython",
    "version": 3
   },
   "file_extension": ".py",
   "mimetype": "text/x-python",
   "name": "python",
   "nbconvert_exporter": "python",
   "pygments_lexer": "ipython3",
   "version": "3.10.12"
  }
 },
 "nbformat": 4,
 "nbformat_minor": 5
}
